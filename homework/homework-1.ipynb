{
 "cells": [
  {
   "cell_type": "code",
   "execution_count": 2,
   "metadata": {},
   "outputs": [],
   "source": [
    "import pandas as pd\n",
    "import numpy as np\n",
    "import matplotlib.pyplot as plt\n",
    "import seaborn as sns"
   ]
  },
  {
   "cell_type": "code",
   "execution_count": 3,
   "metadata": {},
   "outputs": [
    {
     "name": "stdout",
     "output_type": "stream",
     "text": [
      "1.5.1\n"
     ]
    }
   ],
   "source": [
    "# q1: get pandas version\n",
    "print(pd.__version__)"
   ]
  },
  {
   "cell_type": "code",
   "execution_count": 4,
   "metadata": {},
   "outputs": [],
   "source": [
    "df = pd.read_csv(\"data/california_housing_prices.csv\")"
   ]
  },
  {
   "cell_type": "code",
   "execution_count": 5,
   "metadata": {},
   "outputs": [
    {
     "name": "stdout",
     "output_type": "stream",
     "text": [
      "<class 'pandas.core.frame.DataFrame'>\n",
      "RangeIndex: 20640 entries, 0 to 20639\n",
      "Data columns (total 10 columns):\n",
      " #   Column              Non-Null Count  Dtype  \n",
      "---  ------              --------------  -----  \n",
      " 0   longitude           20640 non-null  float64\n",
      " 1   latitude            20640 non-null  float64\n",
      " 2   housing_median_age  20640 non-null  float64\n",
      " 3   total_rooms         20640 non-null  float64\n",
      " 4   total_bedrooms      20433 non-null  float64\n",
      " 5   population          20640 non-null  float64\n",
      " 6   households          20640 non-null  float64\n",
      " 7   median_income       20640 non-null  float64\n",
      " 8   median_house_value  20640 non-null  float64\n",
      " 9   ocean_proximity     20640 non-null  object \n",
      "dtypes: float64(9), object(1)\n",
      "memory usage: 1.6+ MB\n"
     ]
    }
   ],
   "source": [
    "# q2: how many columns are in the dataset?\n",
    "df.info()"
   ]
  },
  {
   "cell_type": "code",
   "execution_count": 6,
   "metadata": {},
   "outputs": [
    {
     "name": "stdout",
     "output_type": "stream",
     "text": [
      "Empty DataFrame\n",
      "Columns: [longitude, latitude, housing_median_age, total_rooms, total_bedrooms, population, households, median_income, median_house_value, ocean_proximity]\n",
      "Index: []\n"
     ]
    }
   ],
   "source": [
    "# q3: no missing values in total_rooms\n",
    "print(df[df['total_rooms'].isna()])"
   ]
  },
  {
   "cell_type": "code",
   "execution_count": 7,
   "metadata": {},
   "outputs": [
    {
     "name": "stdout",
     "output_type": "stream",
     "text": [
      "       longitude  latitude  housing_median_age  total_rooms  total_bedrooms  \\\n",
      "290      -122.16     37.77                47.0       1256.0             NaN   \n",
      "341      -122.17     37.75                38.0        992.0             NaN   \n",
      "538      -122.28     37.78                29.0       5154.0             NaN   \n",
      "563      -122.24     37.75                45.0        891.0             NaN   \n",
      "696      -122.10     37.69                41.0        746.0             NaN   \n",
      "...          ...       ...                 ...          ...             ...   \n",
      "20267    -119.19     34.20                18.0       3620.0             NaN   \n",
      "20268    -119.18     34.19                19.0       2393.0             NaN   \n",
      "20372    -118.88     34.17                15.0       4260.0             NaN   \n",
      "20460    -118.75     34.29                17.0       5512.0             NaN   \n",
      "20484    -118.72     34.28                17.0       3051.0             NaN   \n",
      "\n",
      "       population  households  median_income  median_house_value  \\\n",
      "290         570.0       218.0         4.3750            161900.0   \n",
      "341         732.0       259.0         1.6196             85100.0   \n",
      "538        3741.0      1273.0         2.5762            173400.0   \n",
      "563         384.0       146.0         4.9489            247100.0   \n",
      "696         387.0       161.0         3.9063            178400.0   \n",
      "...           ...         ...            ...                 ...   \n",
      "20267      3171.0       779.0         3.3409            220500.0   \n",
      "20268      1938.0       762.0         1.6953            167400.0   \n",
      "20372      1701.0       669.0         5.1033            410700.0   \n",
      "20460      2734.0       814.0         6.6073            258100.0   \n",
      "20484      1705.0       495.0         5.7376            218600.0   \n",
      "\n",
      "      ocean_proximity  \n",
      "290          NEAR BAY  \n",
      "341          NEAR BAY  \n",
      "538          NEAR BAY  \n",
      "563          NEAR BAY  \n",
      "696          NEAR BAY  \n",
      "...               ...  \n",
      "20267      NEAR OCEAN  \n",
      "20268      NEAR OCEAN  \n",
      "20372       <1H OCEAN  \n",
      "20460       <1H OCEAN  \n",
      "20484       <1H OCEAN  \n",
      "\n",
      "[207 rows x 10 columns]\n"
     ]
    }
   ],
   "source": [
    "# q3: missing values in total_bedrooms\n",
    "print(df[df['total_bedrooms'].isna()])"
   ]
  },
  {
   "cell_type": "code",
   "execution_count": 8,
   "metadata": {},
   "outputs": [
    {
     "data": {
      "text/plain": [
       "array(['NEAR BAY', '<1H OCEAN', 'INLAND', 'NEAR OCEAN', 'ISLAND'],\n",
       "      dtype=object)"
      ]
     },
     "execution_count": 8,
     "metadata": {},
     "output_type": "execute_result"
    }
   ],
   "source": [
    "# q4: get unique valus in ocean_proximity\n",
    "df['ocean_proximity'].unique()"
   ]
  },
  {
   "cell_type": "code",
   "execution_count": 9,
   "metadata": {},
   "outputs": [
    {
     "data": {
      "text/plain": [
       "259212.31179039303"
      ]
     },
     "execution_count": 9,
     "metadata": {},
     "output_type": "execute_result"
    }
   ],
   "source": [
    "# q5: get average value of median_house_value\n",
    "df[df['ocean_proximity']=='NEAR BAY']['median_house_value'].mean()"
   ]
  },
  {
   "cell_type": "code",
   "execution_count": 10,
   "metadata": {},
   "outputs": [],
   "source": [
    "# q6: total_bedrooms\n",
    "avg_bedroom = df['total_bedrooms'].mean()"
   ]
  },
  {
   "cell_type": "code",
   "execution_count": 11,
   "metadata": {},
   "outputs": [
    {
     "data": {
      "text/plain": [
       "537.8705525375618"
      ]
     },
     "execution_count": 11,
     "metadata": {},
     "output_type": "execute_result"
    }
   ],
   "source": [
    "avg_bedroom"
   ]
  },
  {
   "cell_type": "code",
   "execution_count": 14,
   "metadata": {},
   "outputs": [],
   "source": [
    "df['total_bedrooms'].fillna(avg_bedroom, inplace=True)"
   ]
  },
  {
   "cell_type": "code",
   "execution_count": 15,
   "metadata": {},
   "outputs": [
    {
     "data": {
      "text/plain": [
       "537.8705525375617"
      ]
     },
     "execution_count": 15,
     "metadata": {},
     "output_type": "execute_result"
    }
   ],
   "source": [
    "df['total_bedrooms'].mean()"
   ]
  },
  {
   "cell_type": "code",
   "execution_count": 30,
   "metadata": {},
   "outputs": [],
   "source": [
    "# q7: linear regression\n",
    "island_df = df[df['ocean_proximity']=='ISLAND'][['housing_median_age', 'total_rooms', 'total_bedrooms']]\n",
    "X = np.array(island_df)\n",
    "XTX = np.matmul(X.T, X)\n",
    "y = np.array([950, 1300, 800, 1000, 1300])\n",
    "xtx_inv = np.linalg.inv(XTX)\n",
    "z = np.matmul(xtx_inv,X.T)\n",
    "w = np.matmul(z,y)\n"
   ]
  },
  {
   "cell_type": "code",
   "execution_count": 31,
   "metadata": {},
   "outputs": [
    {
     "data": {
      "text/plain": [
       "array([23.12330961, -1.48124183,  5.69922946])"
      ]
     },
     "execution_count": 31,
     "metadata": {},
     "output_type": "execute_result"
    }
   ],
   "source": [
    "w"
   ]
  }
 ],
 "metadata": {
  "kernelspec": {
   "display_name": "Python 3",
   "language": "python",
   "name": "python3"
  },
  "language_info": {
   "codemirror_mode": {
    "name": "ipython",
    "version": 3
   },
   "file_extension": ".py",
   "mimetype": "text/x-python",
   "name": "python",
   "nbconvert_exporter": "python",
   "pygments_lexer": "ipython3",
   "version": "3.10.11"
  },
  "orig_nbformat": 4
 },
 "nbformat": 4,
 "nbformat_minor": 2
}
